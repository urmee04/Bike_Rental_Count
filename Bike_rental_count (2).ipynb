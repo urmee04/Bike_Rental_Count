{
  "nbformat": 4,
  "nbformat_minor": 0,
  "metadata": {
    "colab": {
      "name": "Bike-Rental-Count.ipynb",
      "provenance": []
    },
    "kernelspec": {
      "name": "python3",
      "display_name": "Python 3"
    }
  },
  "cells": [
    {
      "cell_type": "code",
      "metadata": {
        "id": "p0kMqRjCzevx"
      },
      "source": [
        "import numpy as np\n",
        "import pandas as pd\n",
        "import seaborn as sns\n",
        "import matplotlib.pyplot as plt"
      ],
      "execution_count": null,
      "outputs": []
    },
    {
      "cell_type": "markdown",
      "metadata": {
        "id": "fXp2xp6l6yTo"
      },
      "source": [
        "**Load data**"
      ]
    },
    {
      "cell_type": "code",
      "metadata": {
        "id": "8B2y9yiA63SD"
      },
      "source": [
        "df = pd.read_csv(\"https://introtomlsampledata.blob.core.windows.net/data/bike-rental/bike-rental-hour.csv\")"
      ],
      "execution_count": null,
      "outputs": []
    },
    {
      "cell_type": "markdown",
      "metadata": {
        "id": "WMrniLGNDBfw"
      },
      "source": [
        "**Data exploration/analysis**"
      ]
    },
    {
      "cell_type": "markdown",
      "metadata": {
        "id": "SimuZ2BC5HD_"
      },
      "source": [
        "The head() function is used to get the first n rows.This function returns the first n rows for the object based on position. It is useful for quickly testing the type of data.\n",
        "\n"
      ]
    },
    {
      "cell_type": "code",
      "metadata": {
        "id": "mrrwVxgTD-fU",
        "colab": {
          "base_uri": "https://localhost:8080/",
          "height": 198
        },
        "outputId": "a1de349c-6fc0-4b24-a05d-a9761171f824"
      },
      "source": [
        "df.head()"
      ],
      "execution_count": null,
      "outputs": [
        {
          "output_type": "execute_result",
          "data": {
            "text/html": [
              "<div>\n",
              "<style scoped>\n",
              "    .dataframe tbody tr th:only-of-type {\n",
              "        vertical-align: middle;\n",
              "    }\n",
              "\n",
              "    .dataframe tbody tr th {\n",
              "        vertical-align: top;\n",
              "    }\n",
              "\n",
              "    .dataframe thead th {\n",
              "        text-align: right;\n",
              "    }\n",
              "</style>\n",
              "<table border=\"1\" class=\"dataframe\">\n",
              "  <thead>\n",
              "    <tr style=\"text-align: right;\">\n",
              "      <th></th>\n",
              "      <th>instant</th>\n",
              "      <th>dteday</th>\n",
              "      <th>season</th>\n",
              "      <th>yr</th>\n",
              "      <th>mnth</th>\n",
              "      <th>hr</th>\n",
              "      <th>holiday</th>\n",
              "      <th>weekday</th>\n",
              "      <th>workingday</th>\n",
              "      <th>weathersit</th>\n",
              "      <th>temp</th>\n",
              "      <th>atemp</th>\n",
              "      <th>hum</th>\n",
              "      <th>windspeed</th>\n",
              "      <th>casual</th>\n",
              "      <th>registered</th>\n",
              "      <th>cnt</th>\n",
              "    </tr>\n",
              "  </thead>\n",
              "  <tbody>\n",
              "    <tr>\n",
              "      <th>0</th>\n",
              "      <td>1</td>\n",
              "      <td>2011-01-01</td>\n",
              "      <td>1</td>\n",
              "      <td>0</td>\n",
              "      <td>1</td>\n",
              "      <td>0</td>\n",
              "      <td>0</td>\n",
              "      <td>6</td>\n",
              "      <td>0</td>\n",
              "      <td>1</td>\n",
              "      <td>0.24</td>\n",
              "      <td>0.2879</td>\n",
              "      <td>0.81</td>\n",
              "      <td>0.0</td>\n",
              "      <td>3</td>\n",
              "      <td>13</td>\n",
              "      <td>16</td>\n",
              "    </tr>\n",
              "    <tr>\n",
              "      <th>1</th>\n",
              "      <td>2</td>\n",
              "      <td>2011-01-01</td>\n",
              "      <td>1</td>\n",
              "      <td>0</td>\n",
              "      <td>1</td>\n",
              "      <td>1</td>\n",
              "      <td>0</td>\n",
              "      <td>6</td>\n",
              "      <td>0</td>\n",
              "      <td>1</td>\n",
              "      <td>0.22</td>\n",
              "      <td>0.2727</td>\n",
              "      <td>0.80</td>\n",
              "      <td>0.0</td>\n",
              "      <td>8</td>\n",
              "      <td>32</td>\n",
              "      <td>40</td>\n",
              "    </tr>\n",
              "    <tr>\n",
              "      <th>2</th>\n",
              "      <td>3</td>\n",
              "      <td>2011-01-01</td>\n",
              "      <td>1</td>\n",
              "      <td>0</td>\n",
              "      <td>1</td>\n",
              "      <td>2</td>\n",
              "      <td>0</td>\n",
              "      <td>6</td>\n",
              "      <td>0</td>\n",
              "      <td>1</td>\n",
              "      <td>0.22</td>\n",
              "      <td>0.2727</td>\n",
              "      <td>0.80</td>\n",
              "      <td>0.0</td>\n",
              "      <td>5</td>\n",
              "      <td>27</td>\n",
              "      <td>32</td>\n",
              "    </tr>\n",
              "    <tr>\n",
              "      <th>3</th>\n",
              "      <td>4</td>\n",
              "      <td>2011-01-01</td>\n",
              "      <td>1</td>\n",
              "      <td>0</td>\n",
              "      <td>1</td>\n",
              "      <td>3</td>\n",
              "      <td>0</td>\n",
              "      <td>6</td>\n",
              "      <td>0</td>\n",
              "      <td>1</td>\n",
              "      <td>0.24</td>\n",
              "      <td>0.2879</td>\n",
              "      <td>0.75</td>\n",
              "      <td>0.0</td>\n",
              "      <td>3</td>\n",
              "      <td>10</td>\n",
              "      <td>13</td>\n",
              "    </tr>\n",
              "    <tr>\n",
              "      <th>4</th>\n",
              "      <td>5</td>\n",
              "      <td>2011-01-01</td>\n",
              "      <td>1</td>\n",
              "      <td>0</td>\n",
              "      <td>1</td>\n",
              "      <td>4</td>\n",
              "      <td>0</td>\n",
              "      <td>6</td>\n",
              "      <td>0</td>\n",
              "      <td>1</td>\n",
              "      <td>0.24</td>\n",
              "      <td>0.2879</td>\n",
              "      <td>0.75</td>\n",
              "      <td>0.0</td>\n",
              "      <td>0</td>\n",
              "      <td>1</td>\n",
              "      <td>1</td>\n",
              "    </tr>\n",
              "  </tbody>\n",
              "</table>\n",
              "</div>"
            ],
            "text/plain": [
              "   instant      dteday  season  yr  ...  windspeed  casual  registered  cnt\n",
              "0        1  2011-01-01       1   0  ...        0.0       3          13   16\n",
              "1        2  2011-01-01       1   0  ...        0.0       8          32   40\n",
              "2        3  2011-01-01       1   0  ...        0.0       5          27   32\n",
              "3        4  2011-01-01       1   0  ...        0.0       3          10   13\n",
              "4        5  2011-01-01       1   0  ...        0.0       0           1    1\n",
              "\n",
              "[5 rows x 17 columns]"
            ]
          },
          "metadata": {
            "tags": []
          },
          "execution_count": 19
        }
      ]
    },
    {
      "cell_type": "markdown",
      "metadata": {
        "id": "_ahBrs2tIlIC"
      },
      "source": [
        "Shape of the data"
      ]
    },
    {
      "cell_type": "code",
      "metadata": {
        "id": "tnongAM8IoG-",
        "colab": {
          "base_uri": "https://localhost:8080/",
          "height": 35
        },
        "outputId": "806f92e7-90ea-4a49-d23b-934c5787270d"
      },
      "source": [
        "df.shape"
      ],
      "execution_count": null,
      "outputs": [
        {
          "output_type": "execute_result",
          "data": {
            "text/plain": [
              "(17379, 17)"
            ]
          },
          "metadata": {
            "tags": []
          },
          "execution_count": 20
        }
      ]
    },
    {
      "cell_type": "markdown",
      "metadata": {
        "id": "WBo6_EhpNHCS"
      },
      "source": [
        "The dataset contains 17379 observations and 13 attributes"
      ]
    },
    {
      "cell_type": "code",
      "metadata": {
        "id": "8rGmmRdmh0Oc",
        "colab": {
          "base_uri": "https://localhost:8080/",
          "height": 90
        },
        "outputId": "23d5850b-8fde-425f-9cd0-c337b02ac19c"
      },
      "source": [
        "df.columns"
      ],
      "execution_count": null,
      "outputs": [
        {
          "output_type": "execute_result",
          "data": {
            "text/plain": [
              "Index(['instant', 'dteday', 'season', 'yr', 'mnth', 'hr', 'holiday', 'weekday',\n",
              "       'workingday', 'weathersit', 'temp', 'atemp', 'hum', 'windspeed',\n",
              "       'casual', 'registered', 'cnt'],\n",
              "      dtype='object')"
            ]
          },
          "metadata": {
            "tags": []
          },
          "execution_count": 21
        }
      ]
    },
    {
      "cell_type": "code",
      "metadata": {
        "id": "xwUGM_bDDJiY",
        "colab": {
          "base_uri": "https://localhost:8080/",
          "height": 454
        },
        "outputId": "d88a6989-3626-4ffe-9e50-151aa5f0be38"
      },
      "source": [
        "df.info()"
      ],
      "execution_count": null,
      "outputs": [
        {
          "output_type": "stream",
          "text": [
            "<class 'pandas.core.frame.DataFrame'>\n",
            "RangeIndex: 17379 entries, 0 to 17378\n",
            "Data columns (total 17 columns):\n",
            " #   Column      Non-Null Count  Dtype  \n",
            "---  ------      --------------  -----  \n",
            " 0   instant     17379 non-null  int64  \n",
            " 1   dteday      17379 non-null  object \n",
            " 2   season      17379 non-null  int64  \n",
            " 3   yr          17379 non-null  int64  \n",
            " 4   mnth        17379 non-null  int64  \n",
            " 5   hr          17379 non-null  int64  \n",
            " 6   holiday     17379 non-null  int64  \n",
            " 7   weekday     17379 non-null  int64  \n",
            " 8   workingday  17379 non-null  int64  \n",
            " 9   weathersit  17379 non-null  int64  \n",
            " 10  temp        17379 non-null  float64\n",
            " 11  atemp       17379 non-null  float64\n",
            " 12  hum         17379 non-null  float64\n",
            " 13  windspeed   17379 non-null  float64\n",
            " 14  casual      17379 non-null  int64  \n",
            " 15  registered  17379 non-null  int64  \n",
            " 16  cnt         17379 non-null  int64  \n",
            "dtypes: float64(4), int64(12), object(1)\n",
            "memory usage: 2.3+ MB\n"
          ],
          "name": "stdout"
        }
      ]
    },
    {
      "cell_type": "markdown",
      "metadata": {
        "id": "nn0xmezQ6r6e"
      },
      "source": [
        "### The info() function is used to print a concise summary of a DataFrame. This method prints information about a DataFrame including the index dtype and column dtypes, non-null values and memory usage"
      ]
    },
    {
      "cell_type": "markdown",
      "metadata": {
        "id": "N7DNYDLwGoYm"
      },
      "source": [
        "Check for missing values"
      ]
    },
    {
      "cell_type": "code",
      "metadata": {
        "id": "-QJ3ypbMGo74",
        "colab": {
          "base_uri": "https://localhost:8080/",
          "height": 345
        },
        "outputId": "430c3de1-3724-4fc7-f10f-ee26c720a3bc"
      },
      "source": [
        "df.isnull().sum()"
      ],
      "execution_count": null,
      "outputs": [
        {
          "output_type": "execute_result",
          "data": {
            "text/plain": [
              "instant       0\n",
              "dteday        0\n",
              "season        0\n",
              "yr            0\n",
              "mnth          0\n",
              "hr            0\n",
              "holiday       0\n",
              "weekday       0\n",
              "workingday    0\n",
              "weathersit    0\n",
              "temp          0\n",
              "atemp         0\n",
              "hum           0\n",
              "windspeed     0\n",
              "casual        0\n",
              "registered    0\n",
              "cnt           0\n",
              "dtype: int64"
            ]
          },
          "metadata": {
            "tags": []
          },
          "execution_count": 24
        }
      ]
    },
    {
      "cell_type": "markdown",
      "metadata": {
        "id": "G3_hkiCx6A8C"
      },
      "source": [
        "From above information we can see that there is no null values."
      ]
    },
    {
      "cell_type": "markdown",
      "metadata": {
        "id": "wrL00JzlMbYC"
      },
      "source": [
        "Convert season and weathersit columns into categorical"
      ]
    },
    {
      "cell_type": "code",
      "metadata": {
        "id": "nzUVXt4QMeXR"
      },
      "source": [
        "col_names = ['season','weathersit']\n",
        "for col in col_names:\n",
        "    df[col] = df[col].astype('category')"
      ],
      "execution_count": null,
      "outputs": []
    },
    {
      "cell_type": "code",
      "metadata": {
        "id": "uf4cUssXMtM_",
        "colab": {
          "base_uri": "https://localhost:8080/",
          "height": 454
        },
        "outputId": "86c33af0-b78b-44fc-fe33-b17c2fa38571"
      },
      "source": [
        "df.info()"
      ],
      "execution_count": null,
      "outputs": [
        {
          "output_type": "stream",
          "text": [
            "<class 'pandas.core.frame.DataFrame'>\n",
            "RangeIndex: 17379 entries, 0 to 17378\n",
            "Data columns (total 17 columns):\n",
            " #   Column      Non-Null Count  Dtype   \n",
            "---  ------      --------------  -----   \n",
            " 0   instant     17379 non-null  int64   \n",
            " 1   dteday      17379 non-null  object  \n",
            " 2   season      17379 non-null  category\n",
            " 3   yr          17379 non-null  int64   \n",
            " 4   mnth        17379 non-null  int64   \n",
            " 5   hr          17379 non-null  int64   \n",
            " 6   holiday     17379 non-null  int64   \n",
            " 7   weekday     17379 non-null  int64   \n",
            " 8   workingday  17379 non-null  int64   \n",
            " 9   weathersit  17379 non-null  category\n",
            " 10  temp        17379 non-null  float64 \n",
            " 11  atemp       17379 non-null  float64 \n",
            " 12  hum         17379 non-null  float64 \n",
            " 13  windspeed   17379 non-null  float64 \n",
            " 14  casual      17379 non-null  int64   \n",
            " 15  registered  17379 non-null  int64   \n",
            " 16  cnt         17379 non-null  int64   \n",
            "dtypes: category(2), float64(4), int64(10), object(1)\n",
            "memory usage: 2.0+ MB\n"
          ],
          "name": "stdout"
        }
      ]
    },
    {
      "cell_type": "markdown",
      "metadata": {
        "id": "IJkHbqSzNA3w"
      },
      "source": [
        "Exclude/drop column names: instant, dteday, casual,registered"
      ]
    },
    {
      "cell_type": "code",
      "metadata": {
        "id": "612fsZq_NDbI"
      },
      "source": [
        "df = df.drop(['instant', 'dteday', 'casual' ,'registered'], axis=1)"
      ],
      "execution_count": null,
      "outputs": []
    },
    {
      "cell_type": "markdown",
      "metadata": {
        "id": "IvP_dczF4Cr3"
      },
      "source": [
        "After dropping again checking the data with head()function"
      ]
    },
    {
      "cell_type": "code",
      "metadata": {
        "id": "-g5HN9ma4jZh",
        "colab": {
          "base_uri": "https://localhost:8080/",
          "height": 348
        },
        "outputId": "322edd45-51ef-4ce8-a713-8cf7822794bb"
      },
      "source": [
        "df.head(10)"
      ],
      "execution_count": null,
      "outputs": [
        {
          "output_type": "execute_result",
          "data": {
            "text/html": [
              "<div>\n",
              "<style scoped>\n",
              "    .dataframe tbody tr th:only-of-type {\n",
              "        vertical-align: middle;\n",
              "    }\n",
              "\n",
              "    .dataframe tbody tr th {\n",
              "        vertical-align: top;\n",
              "    }\n",
              "\n",
              "    .dataframe thead th {\n",
              "        text-align: right;\n",
              "    }\n",
              "</style>\n",
              "<table border=\"1\" class=\"dataframe\">\n",
              "  <thead>\n",
              "    <tr style=\"text-align: right;\">\n",
              "      <th></th>\n",
              "      <th>season</th>\n",
              "      <th>yr</th>\n",
              "      <th>mnth</th>\n",
              "      <th>hr</th>\n",
              "      <th>holiday</th>\n",
              "      <th>weekday</th>\n",
              "      <th>workingday</th>\n",
              "      <th>weathersit</th>\n",
              "      <th>temp</th>\n",
              "      <th>atemp</th>\n",
              "      <th>hum</th>\n",
              "      <th>windspeed</th>\n",
              "      <th>cnt</th>\n",
              "    </tr>\n",
              "  </thead>\n",
              "  <tbody>\n",
              "    <tr>\n",
              "      <th>0</th>\n",
              "      <td>1</td>\n",
              "      <td>0</td>\n",
              "      <td>1</td>\n",
              "      <td>0</td>\n",
              "      <td>0</td>\n",
              "      <td>6</td>\n",
              "      <td>0</td>\n",
              "      <td>1</td>\n",
              "      <td>0.24</td>\n",
              "      <td>0.2879</td>\n",
              "      <td>0.81</td>\n",
              "      <td>0.0000</td>\n",
              "      <td>16</td>\n",
              "    </tr>\n",
              "    <tr>\n",
              "      <th>1</th>\n",
              "      <td>1</td>\n",
              "      <td>0</td>\n",
              "      <td>1</td>\n",
              "      <td>1</td>\n",
              "      <td>0</td>\n",
              "      <td>6</td>\n",
              "      <td>0</td>\n",
              "      <td>1</td>\n",
              "      <td>0.22</td>\n",
              "      <td>0.2727</td>\n",
              "      <td>0.80</td>\n",
              "      <td>0.0000</td>\n",
              "      <td>40</td>\n",
              "    </tr>\n",
              "    <tr>\n",
              "      <th>2</th>\n",
              "      <td>1</td>\n",
              "      <td>0</td>\n",
              "      <td>1</td>\n",
              "      <td>2</td>\n",
              "      <td>0</td>\n",
              "      <td>6</td>\n",
              "      <td>0</td>\n",
              "      <td>1</td>\n",
              "      <td>0.22</td>\n",
              "      <td>0.2727</td>\n",
              "      <td>0.80</td>\n",
              "      <td>0.0000</td>\n",
              "      <td>32</td>\n",
              "    </tr>\n",
              "    <tr>\n",
              "      <th>3</th>\n",
              "      <td>1</td>\n",
              "      <td>0</td>\n",
              "      <td>1</td>\n",
              "      <td>3</td>\n",
              "      <td>0</td>\n",
              "      <td>6</td>\n",
              "      <td>0</td>\n",
              "      <td>1</td>\n",
              "      <td>0.24</td>\n",
              "      <td>0.2879</td>\n",
              "      <td>0.75</td>\n",
              "      <td>0.0000</td>\n",
              "      <td>13</td>\n",
              "    </tr>\n",
              "    <tr>\n",
              "      <th>4</th>\n",
              "      <td>1</td>\n",
              "      <td>0</td>\n",
              "      <td>1</td>\n",
              "      <td>4</td>\n",
              "      <td>0</td>\n",
              "      <td>6</td>\n",
              "      <td>0</td>\n",
              "      <td>1</td>\n",
              "      <td>0.24</td>\n",
              "      <td>0.2879</td>\n",
              "      <td>0.75</td>\n",
              "      <td>0.0000</td>\n",
              "      <td>1</td>\n",
              "    </tr>\n",
              "    <tr>\n",
              "      <th>5</th>\n",
              "      <td>1</td>\n",
              "      <td>0</td>\n",
              "      <td>1</td>\n",
              "      <td>5</td>\n",
              "      <td>0</td>\n",
              "      <td>6</td>\n",
              "      <td>0</td>\n",
              "      <td>2</td>\n",
              "      <td>0.24</td>\n",
              "      <td>0.2576</td>\n",
              "      <td>0.75</td>\n",
              "      <td>0.0896</td>\n",
              "      <td>1</td>\n",
              "    </tr>\n",
              "    <tr>\n",
              "      <th>6</th>\n",
              "      <td>1</td>\n",
              "      <td>0</td>\n",
              "      <td>1</td>\n",
              "      <td>6</td>\n",
              "      <td>0</td>\n",
              "      <td>6</td>\n",
              "      <td>0</td>\n",
              "      <td>1</td>\n",
              "      <td>0.22</td>\n",
              "      <td>0.2727</td>\n",
              "      <td>0.80</td>\n",
              "      <td>0.0000</td>\n",
              "      <td>2</td>\n",
              "    </tr>\n",
              "    <tr>\n",
              "      <th>7</th>\n",
              "      <td>1</td>\n",
              "      <td>0</td>\n",
              "      <td>1</td>\n",
              "      <td>7</td>\n",
              "      <td>0</td>\n",
              "      <td>6</td>\n",
              "      <td>0</td>\n",
              "      <td>1</td>\n",
              "      <td>0.20</td>\n",
              "      <td>0.2576</td>\n",
              "      <td>0.86</td>\n",
              "      <td>0.0000</td>\n",
              "      <td>3</td>\n",
              "    </tr>\n",
              "    <tr>\n",
              "      <th>8</th>\n",
              "      <td>1</td>\n",
              "      <td>0</td>\n",
              "      <td>1</td>\n",
              "      <td>8</td>\n",
              "      <td>0</td>\n",
              "      <td>6</td>\n",
              "      <td>0</td>\n",
              "      <td>1</td>\n",
              "      <td>0.24</td>\n",
              "      <td>0.2879</td>\n",
              "      <td>0.75</td>\n",
              "      <td>0.0000</td>\n",
              "      <td>8</td>\n",
              "    </tr>\n",
              "    <tr>\n",
              "      <th>9</th>\n",
              "      <td>1</td>\n",
              "      <td>0</td>\n",
              "      <td>1</td>\n",
              "      <td>9</td>\n",
              "      <td>0</td>\n",
              "      <td>6</td>\n",
              "      <td>0</td>\n",
              "      <td>1</td>\n",
              "      <td>0.32</td>\n",
              "      <td>0.3485</td>\n",
              "      <td>0.76</td>\n",
              "      <td>0.0000</td>\n",
              "      <td>14</td>\n",
              "    </tr>\n",
              "  </tbody>\n",
              "</table>\n",
              "</div>"
            ],
            "text/plain": [
              "  season  yr  mnth  hr  holiday  ...  temp   atemp   hum  windspeed  cnt\n",
              "0      1   0     1   0        0  ...  0.24  0.2879  0.81     0.0000   16\n",
              "1      1   0     1   1        0  ...  0.22  0.2727  0.80     0.0000   40\n",
              "2      1   0     1   2        0  ...  0.22  0.2727  0.80     0.0000   32\n",
              "3      1   0     1   3        0  ...  0.24  0.2879  0.75     0.0000   13\n",
              "4      1   0     1   4        0  ...  0.24  0.2879  0.75     0.0000    1\n",
              "5      1   0     1   5        0  ...  0.24  0.2576  0.75     0.0896    1\n",
              "6      1   0     1   6        0  ...  0.22  0.2727  0.80     0.0000    2\n",
              "7      1   0     1   7        0  ...  0.20  0.2576  0.86     0.0000    3\n",
              "8      1   0     1   8        0  ...  0.24  0.2879  0.75     0.0000    8\n",
              "9      1   0     1   9        0  ...  0.32  0.3485  0.76     0.0000   14\n",
              "\n",
              "[10 rows x 13 columns]"
            ]
          },
          "metadata": {
            "tags": []
          },
          "execution_count": 28
        }
      ]
    },
    {
      "cell_type": "markdown",
      "metadata": {
        "id": "Lfq0WoUJ_9Mw"
      },
      "source": [
        "Histogram(Seaborn Displot)\n",
        "This plot allows to see the frequency of all values distributed in bins. Therefore only a single value is needed to produce this plot."
      ]
    },
    {
      "cell_type": "code",
      "metadata": {
        "id": "a0WEZxdVlh1o",
        "colab": {
          "base_uri": "https://localhost:8080/",
          "height": 515
        },
        "outputId": "c860e6d7-cff3-4f25-abdb-5c538ca605a7"
      },
      "source": [
        "plt.figure(figsize=(9,8))\n",
        "sns.set_style('whitegrid') \n",
        "sns.distplot(df['cnt'], kde = False, color ='red', bins = 100) \n"
      ],
      "execution_count": null,
      "outputs": [
        {
          "output_type": "execute_result",
          "data": {
            "text/plain": [
              "<matplotlib.axes._subplots.AxesSubplot at 0x7f9d835fea58>"
            ]
          },
          "metadata": {
            "tags": []
          },
          "execution_count": 29
        },
        {
          "output_type": "display_data",
          "data": {
            "image/png": "[encoded data removed]",
            "text/plain": [
              "<Figure size 648x576 with 1 Axes>"
            ]
          },
          "metadata": {
            "tags": []
          }
        }
      ]
    },
    {
      "cell_type": "markdown",
      "metadata": {
        "id": "o0EmwVAAKXfS"
      },
      "source": [
        "Now looking at this we can say that most of the count given lies between 0 and 200."
      ]
    },
    {
      "cell_type": "markdown",
      "metadata": {
        "id": "24K5txVAAORt"
      },
      "source": [
        "**Draw a set of vertical bar plots grouped by a categorical variable**"
      ]
    },
    {
      "cell_type": "markdown",
      "metadata": {
        "id": "ULALmWWX3cg2"
      },
      "source": [
        "Seasonwise monthly distribution of counts"
      ]
    },
    {
      "cell_type": "code",
      "metadata": {
        "id": "xGM_TyoD3rro",
        "colab": {
          "base_uri": "https://localhost:8080/",
          "height": 350
        },
        "outputId": "059a8b65-aaf8-486c-c935-237f5f304892"
      },
      "source": [
        "fig,ax=plt.subplots(figsize=(10,5))\n",
        "sns.barplot(x='mnth',y='cnt',data=df[['mnth','cnt','season']],hue='season',ax=ax)\n",
        "ax.set_title('Season based monthly distribution of counts')\n",
        "plt.show()"
      ],
      "execution_count": null,
      "outputs": [
        {
          "output_type": "display_data",
          "data": {
            "image/png": "[encoded data removed]",
            "text/plain": [
              "<Figure size 720x360 with 1 Axes>"
            ]
          },
          "metadata": {
            "tags": []
          }
        }
      ]
    },
    {
      "cell_type": "markdown",
      "metadata": {
        "id": "MlSSO5mA785o"
      },
      "source": [
        "Weather condition based monthly distribution of counts"
      ]
    },
    {
      "cell_type": "code",
      "metadata": {
        "id": "pH1VHENv8Ezv",
        "colab": {
          "base_uri": "https://localhost:8080/",
          "height": 350
        },
        "outputId": "46094da2-c6fd-40c8-ca1d-8d67b7e26d85"
      },
      "source": [
        "fig,ax=plt.subplots(figsize=(10,5))\n",
        "sns.barplot(x='mnth',y='cnt',data=df[['mnth','cnt','weathersit']],hue='weathersit',ax=ax)\n",
        "ax.set_title('Weather condition based monthly distribution of counts')\n",
        "plt.show()"
      ],
      "execution_count": null,
      "outputs": [
        {
          "output_type": "display_data",
          "data": {
            "image/png": "[encoded data removed]",
            "text/plain": [
              "<Figure size 720x360 with 1 Axes>"
            ]
          },
          "metadata": {
            "tags": []
          }
        }
      ]
    },
    {
      "cell_type": "markdown",
      "metadata": {
        "id": "2IclfzrCBtaV"
      },
      "source": [
        "**Correlation matrix of attributes**\n",
        "A correlation matrix is a tabular data representing the ‘correlations’ between pairs of variables in a given data."
      ]
    },
    {
      "cell_type": "code",
      "metadata": {
        "id": "UvvzcjlTB06Z",
        "colab": {
          "base_uri": "https://localhost:8080/",
          "height": 336
        },
        "outputId": "3f1a7c29-0ea5-4bd4-a3d4-ca47835ae4a2"
      },
      "source": [
        "corr_mat=df[['holiday','weekday','workingday','temp','atemp','hum', 'windspeed', 'cnt']].corr()\n",
        "fig,ax=plt.subplots(figsize=(10,5))\n",
        "sns.heatmap(corr_mat,annot=True,ax=ax)\n",
        "ax.set_title('Correlation matrix of attributes')\n",
        "plt.show()"
      ],
      "execution_count": null,
      "outputs": [
        {
          "output_type": "display_data",
          "data": {
            "image/png": "[encoded data removed]",
            "text/plain": [
              "<Figure size 720x360 with 2 Axes>"
            ]
          },
          "metadata": {
            "tags": []
          }
        }
      ]
    },
    {
      "cell_type": "markdown",
      "metadata": {
        "id": "iP6ryB26Dyr7"
      },
      "source": [
        "Sortng the correlation matrix"
      ]
    },
    {
      "cell_type": "code",
      "metadata": {
        "id": "hkS818JXD6ol",
        "colab": {
          "base_uri": "https://localhost:8080/",
          "height": 235
        },
        "outputId": "9ddd4cb9-5ca6-4424-8faf-b2d51d0bdd99"
      },
      "source": [
        "corre_mat = df.corr()\n",
        "corr_pairs = corr_mat.unstack()\n",
        "print(corr_pairs)"
      ],
      "execution_count": null,
      "outputs": [
        {
          "output_type": "stream",
          "text": [
            "holiday  holiday       1.000000\n",
            "         weekday      -0.102088\n",
            "         workingday   -0.252471\n",
            "         temp         -0.027340\n",
            "         atemp        -0.030973\n",
            "                         ...   \n",
            "cnt      temp          0.404772\n",
            "         atemp         0.400929\n",
            "         hum          -0.322911\n",
            "         windspeed     0.093234\n",
            "         cnt           1.000000\n",
            "Length: 64, dtype: float64\n"
          ],
          "name": "stdout"
        }
      ]
    },
    {
      "cell_type": "code",
      "metadata": {
        "id": "MdjwvHKkEvSL",
        "colab": {
          "base_uri": "https://localhost:8080/",
          "height": 235
        },
        "outputId": "025a60d4-a1cf-4d30-b457-443f4cfa853f"
      },
      "source": [
        "sorted_pairs = corr_pairs.sort_values(kind=\"quicksort\")\n",
        "\n",
        "print(sorted_pairs)"
      ],
      "execution_count": null,
      "outputs": [
        {
          "output_type": "stream",
          "text": [
            "hum         cnt          -0.322911\n",
            "cnt         hum          -0.322911\n",
            "windspeed   hum          -0.290105\n",
            "hum         windspeed    -0.290105\n",
            "holiday     workingday   -0.252471\n",
            "                            ...   \n",
            "temp        temp          1.000000\n",
            "workingday  workingday    1.000000\n",
            "weekday     weekday       1.000000\n",
            "windspeed   windspeed     1.000000\n",
            "cnt         cnt           1.000000\n",
            "Length: 64, dtype: float64\n"
          ],
          "name": "stdout"
        }
      ]
    },
    {
      "cell_type": "markdown",
      "metadata": {
        "id": "xZiEJAxBE16z"
      },
      "source": [
        "Selecting negative correlation pairs"
      ]
    },
    {
      "cell_type": "code",
      "metadata": {
        "id": "hfMoj98JE-X1",
        "colab": {
          "base_uri": "https://localhost:8080/",
          "height": 617
        },
        "outputId": "337e7cc0-6225-40a6-ae08-d336ffa011d4"
      },
      "source": [
        "negative_pairs = sorted_pairs[sorted_pairs < 0]\n",
        "\n",
        "print(negative_pairs)"
      ],
      "execution_count": null,
      "outputs": [
        {
          "output_type": "stream",
          "text": [
            "hum         cnt          -0.322911\n",
            "cnt         hum          -0.322911\n",
            "windspeed   hum          -0.290105\n",
            "hum         windspeed    -0.290105\n",
            "holiday     workingday   -0.252471\n",
            "workingday  holiday      -0.252471\n",
            "holiday     weekday      -0.102088\n",
            "weekday     holiday      -0.102088\n",
            "hum         temp         -0.069881\n",
            "temp        hum          -0.069881\n",
            "atemp       windspeed    -0.062336\n",
            "windspeed   atemp        -0.062336\n",
            "atemp       hum          -0.051918\n",
            "hum         atemp        -0.051918\n",
            "weekday     hum          -0.037158\n",
            "hum         weekday      -0.037158\n",
            "holiday     atemp        -0.030973\n",
            "atemp       holiday      -0.030973\n",
            "cnt         holiday      -0.030927\n",
            "holiday     cnt          -0.030927\n",
            "            temp         -0.027340\n",
            "temp        holiday      -0.027340\n",
            "            windspeed    -0.023125\n",
            "windspeed   temp         -0.023125\n",
            "            workingday   -0.011830\n",
            "workingday  windspeed    -0.011830\n",
            "hum         holiday      -0.010588\n",
            "holiday     hum          -0.010588\n",
            "atemp       weekday      -0.008821\n",
            "weekday     atemp        -0.008821\n",
            "temp        weekday      -0.001795\n",
            "weekday     temp         -0.001795\n",
            "dtype: float64\n"
          ],
          "name": "stdout"
        }
      ]
    },
    {
      "cell_type": "markdown",
      "metadata": {
        "id": "5rjj9rHiFHVm"
      },
      "source": [
        "Selecting strong correlation pairs (magnitude greater than 0.5)"
      ]
    },
    {
      "cell_type": "code",
      "metadata": {
        "id": "R9QQTP1aFKWA",
        "colab": {
          "base_uri": "https://localhost:8080/",
          "height": 217
        },
        "outputId": "25b71ab1-7b80-411e-ebb4-2812da53d531"
      },
      "source": [
        "strong_pairs = sorted_pairs[abs(sorted_pairs) > 0.5]\n",
        "\n",
        "print(strong_pairs)"
      ],
      "execution_count": null,
      "outputs": [
        {
          "output_type": "stream",
          "text": [
            "temp        atemp         0.987672\n",
            "atemp       temp          0.987672\n",
            "holiday     holiday       1.000000\n",
            "hum         hum           1.000000\n",
            "atemp       atemp         1.000000\n",
            "temp        temp          1.000000\n",
            "workingday  workingday    1.000000\n",
            "weekday     weekday       1.000000\n",
            "windspeed   windspeed     1.000000\n",
            "cnt         cnt           1.000000\n",
            "dtype: float64\n"
          ],
          "name": "stdout"
        }
      ]
    }
  ]
}